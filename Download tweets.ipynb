{
 "cells": [
  {
   "cell_type": "code",
   "execution_count": 1,
   "metadata": {},
   "outputs": [],
   "source": [
    "import tweepy \n",
    "import pandas as pd\n",
    "import datetime\n",
    "import os\n",
    "\n",
    "users = ['Samir_Madani', 'DanielMichael26', 'staunovo', 'Amena__Bakr', 'TopOilNews', 'emmarossthomas', 'OilXs', ]"
   ]
  },
  {
   "cell_type": "code",
   "execution_count": 2,
   "metadata": {},
   "outputs": [],
   "source": [
    "log = pd.read_csv('login.csv')"
   ]
  },
  {
   "cell_type": "code",
   "execution_count": 3,
   "metadata": {},
   "outputs": [],
   "source": [
    "consumerKey = log['Key'] [0]\n",
    "consumerSecret = log['Key'] [1]\n",
    "accessToken = log['Key'] [2]\n",
    "accessTokenSecret = log['Key'] [3]"
   ]
  },
  {
   "cell_type": "code",
   "execution_count": 4,
   "metadata": {},
   "outputs": [],
   "source": [
    "authenticate = tweepy.OAuthHandler(consumerKey, consumerSecret) \n",
    "    \n",
    "authenticate.set_access_token(accessToken, accessTokenSecret) \n",
    "    \n",
    "api = tweepy.API(authenticate, wait_on_rate_limit = True)"
   ]
  },
  {
   "cell_type": "code",
   "execution_count": 10,
   "metadata": {},
   "outputs": [],
   "source": [
    "for i in range(len(users)):\n",
    "    df1 = pd.DataFrame([str(status.created_at) + ' ' + status.retweeted_status.full_text if status.full_text.startswith(\"RT @\") else str(status.created_at) + ' ' + status.full_text for status in tweepy.Cursor(api.user_timeline, screen_name= users[i], tweet_mode=\"extended\").items()], columns = ['Tweets'])\n",
    "    df1.to_csv('Tweets_test' + str(users[i]) + '.csv')"
   ]
  },
  {
   "cell_type": "code",
   "execution_count": null,
   "metadata": {},
   "outputs": [],
   "source": []
  }
 ],
 "metadata": {
  "kernelspec": {
   "display_name": "Python 3",
   "language": "python",
   "name": "python3"
  },
  "language_info": {
   "codemirror_mode": {
    "name": "ipython",
    "version": 3
   },
   "file_extension": ".py",
   "mimetype": "text/x-python",
   "name": "python",
   "nbconvert_exporter": "python",
   "pygments_lexer": "ipython3",
   "version": "3.7.3"
  }
 },
 "nbformat": 4,
 "nbformat_minor": 2
}
