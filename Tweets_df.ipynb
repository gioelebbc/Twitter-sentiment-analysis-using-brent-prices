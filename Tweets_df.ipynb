{
 "cells": [
  {
   "cell_type": "code",
   "execution_count": 1,
   "metadata": {},
   "outputs": [],
   "source": [
    "import pandas as pd\n",
    "import os \n",
    "import re\n",
    "from wordcloud import WordCloud\n",
    "import matplotlib.pyplot as plt\n",
    "import glob \n",
    "import multiprocessing\n",
    "from multiprocessing import Pool\n",
    "from textblob import TextBlob\n",
    "pd.set_option('display.max_colwidth', -1)"
   ]
  },
  {
   "cell_type": "code",
   "execution_count": 2,
   "metadata": {},
   "outputs": [
    {
     "name": "stderr",
     "output_type": "stream",
     "text": [
      "/Users/gioel/anaconda3/lib/python3.7/site-packages/ipykernel_launcher.py:41: SettingWithCopyWarning: \n",
      "A value is trying to be set on a copy of a slice from a DataFrame.\n",
      "Try using .loc[row_indexer,col_indexer] = value instead\n",
      "\n",
      "See the caveats in the documentation: http://pandas.pydata.org/pandas-docs/stable/indexing.html#indexing-view-versus-copy\n",
      "/Users/gioel/anaconda3/lib/python3.7/site-packages/ipykernel_launcher.py:41: SettingWithCopyWarning: \n",
      "A value is trying to be set on a copy of a slice from a DataFrame.\n",
      "Try using .loc[row_indexer,col_indexer] = value instead\n",
      "\n",
      "See the caveats in the documentation: http://pandas.pydata.org/pandas-docs/stable/indexing.html#indexing-view-versus-copy\n",
      "/Users/gioel/anaconda3/lib/python3.7/site-packages/ipykernel_launcher.py:41: SettingWithCopyWarning: \n",
      "A value is trying to be set on a copy of a slice from a DataFrame.\n",
      "Try using .loc[row_indexer,col_indexer] = value instead\n",
      "\n",
      "See the caveats in the documentation: http://pandas.pydata.org/pandas-docs/stable/indexing.html#indexing-view-versus-copy\n",
      "/Users/gioel/anaconda3/lib/python3.7/site-packages/ipykernel_launcher.py:41: SettingWithCopyWarning: \n",
      "A value is trying to be set on a copy of a slice from a DataFrame.\n",
      "Try using .loc[row_indexer,col_indexer] = value instead\n",
      "\n",
      "See the caveats in the documentation: http://pandas.pydata.org/pandas-docs/stable/indexing.html#indexing-view-versus-copy\n",
      "/Users/gioel/anaconda3/lib/python3.7/site-packages/ipykernel_launcher.py:41: SettingWithCopyWarning: \n",
      "A value is trying to be set on a copy of a slice from a DataFrame.\n",
      "Try using .loc[row_indexer,col_indexer] = value instead\n",
      "\n",
      "See the caveats in the documentation: http://pandas.pydata.org/pandas-docs/stable/indexing.html#indexing-view-versus-copy\n",
      "/Users/gioel/anaconda3/lib/python3.7/site-packages/ipykernel_launcher.py:41: SettingWithCopyWarning: \n",
      "A value is trying to be set on a copy of a slice from a DataFrame.\n",
      "Try using .loc[row_indexer,col_indexer] = value instead\n",
      "\n",
      "See the caveats in the documentation: http://pandas.pydata.org/pandas-docs/stable/indexing.html#indexing-view-versus-copy\n",
      "/Users/gioel/anaconda3/lib/python3.7/site-packages/ipykernel_launcher.py:41: SettingWithCopyWarning: \n",
      "A value is trying to be set on a copy of a slice from a DataFrame.\n",
      "Try using .loc[row_indexer,col_indexer] = value instead\n",
      "\n",
      "See the caveats in the documentation: http://pandas.pydata.org/pandas-docs/stable/indexing.html#indexing-view-versus-copy\n"
     ]
    }
   ],
   "source": [
    "keywords = ['Oil', 'Price', 'Prices', 'Brent', 'WTI', 'Opec', 'Iran', 'China', 'Russia', 'US', 'Saudi Arabia','Coronavirus', 'OOTT', 'Crude', 'Energy', 'Brent', 'Cut', 'COVID', 'Urals', 'Supply', 'Demand']\n",
    "keywords = list(map(str.lower, keywords))\n",
    "work_data = ([\"Tweets_testAmena__Bakr.csv\", keywords], [\"Tweets_testDanielMichael26.csv\", keywords],\n",
    "             [\"Tweets_testemmarossthomas.csv\", keywords], [\"Tweets_testOilXs.csv\", keywords],[\"Tweets_testSamir_Madani.csv\", keywords],\n",
    "             [\"Tweets_teststaunovo.csv\", keywords],[\"Tweets_testTopOilNews.csv\", keywords])\n",
    "\n",
    "emoji_pattern = re.compile(\"[\"\n",
    "        u\"\\U0001F600-\\U0001F64F\"  \n",
    "        u\"\\U0001F300-\\U0001F5FF\"  \n",
    "        u\"\\U0001F680-\\U0001F6FF\"  \n",
    "        u\"\\U0001F1E0-\\U0001F1FF\"  \n",
    "                           \"]+\", flags=re.UNICODE) \n",
    "\n",
    "def clean(text):\n",
    "    text = re.sub('@[A-Za-z0–9]+', '', text)\n",
    "#     text = re.sub(r'[^\\w\\s]','', text)\n",
    "    text = re.sub('#', '', text) \n",
    "    text = re.sub('$', '', text) \n",
    "    text = re.sub('%', '', text)     \n",
    "    text = re.sub('_', '', text) \n",
    "    text = text.replace(\"\\\\\", \"\") \n",
    "    text = re.sub('RT[\\s]+', '', text) \n",
    "    text = re.sub('https?:\\/\\/\\S+', '', text) \n",
    "    text = re.sub(r'\\d+','', text) \n",
    "    text = emoji_pattern.sub(r'', text) \n",
    "    \n",
    "    return text\n",
    "\n",
    "def worker(work_data):\n",
    "    df = pd.read_csv(work_data[0])\n",
    "    df['Date'] = df['Tweets'].apply(lambda x: x.split(' ')[0])\n",
    "    df['Time'] = df['Tweets'].apply(lambda x: x.split(' ')[1])\n",
    "    df['Time'] = df['Time'].apply(lambda x: x.split(':')[0] + ':'+ x.split(':')[1])\n",
    "    df['Text'] = df['Tweets'].apply(lambda x: x.split(' ')[3:-1])\n",
    "    df['Text'] = df['Text'].astype(str)\n",
    "\n",
    "\n",
    "    df['Text'] = df['Text'].str.lower()\n",
    "    condition = \"|\".join(work_data[1])\n",
    "    temp = df[df.Text.str.contains(condition)]\n",
    "    temp['Text'] = temp.Text.apply(clean)\n",
    "    temp = temp.drop(columns = 'Tweets')\n",
    "    outfilename = work_data[0].replace(\".csv\", \"_cleaned.csv\")\n",
    "    temp.to_csv('./f/'+outfilename)\n",
    "\n",
    "\n",
    "def pool_handler():\n",
    "    p = Pool(len(work_data))\n",
    "    p.map(worker, work_data)\n",
    "\n",
    "if __name__ == \"__main__\":\n",
    "    pool_handler()\n",
    "\n",
    "\n",
    "\n"
   ]
  },
  {
   "cell_type": "code",
   "execution_count": 3,
   "metadata": {},
   "outputs": [],
   "source": [
    "path = r'/Users/gioel/Desktop/tesi_magistrale/f'\n",
    "\n",
    "all_files = glob.glob(path + \"/*.csv\")\n",
    "\n",
    "li = []\n",
    "\n",
    "for filename in all_files:\n",
    "    df = pd.read_csv(filename, index_col=None, header=0)\n",
    "    li.append(df)\n",
    "\n",
    "frame = pd.concat(li, axis=0, ignore_index=True)"
   ]
  },
  {
   "cell_type": "code",
   "execution_count": 4,
   "metadata": {},
   "outputs": [],
   "source": [
    "frame = frame.drop(columns = 'Unnamed: 0')\n",
    "frame = frame.drop(columns = 'Unnamed: 0.1')\n",
    "frame.set_index('Date', inplace = True)\n",
    "frame = frame.sort_values(by = 'Date', ascending = False)\n",
    "frame.to_csv('tweets_df.csv')"
   ]
  },
  {
   "cell_type": "code",
   "execution_count": 6,
   "metadata": {},
   "outputs": [
    {
     "data": {
      "text/plain": [
       "\"'\""
      ]
     },
     "execution_count": 6,
     "metadata": {},
     "output_type": "execute_result"
    }
   ],
   "source": []
  },
  {
   "cell_type": "code",
   "execution_count": null,
   "metadata": {},
   "outputs": [],
   "source": []
  }
 ],
 "metadata": {
  "kernelspec": {
   "display_name": "Python 3",
   "language": "python",
   "name": "python3"
  },
  "language_info": {
   "codemirror_mode": {
    "name": "ipython",
    "version": 3
   },
   "file_extension": ".py",
   "mimetype": "text/x-python",
   "name": "python",
   "nbconvert_exporter": "python",
   "pygments_lexer": "ipython3",
   "version": "3.7.3"
  }
 },
 "nbformat": 4,
 "nbformat_minor": 2
}
